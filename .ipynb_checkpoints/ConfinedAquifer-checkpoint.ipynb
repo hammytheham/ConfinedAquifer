{
 "cells": [
  {
   "cell_type": "markdown",
   "metadata": {},
   "source": [
    "# Confined Aquifer Practical\n",
    "This practical is a jupyter notebook version of Tutorial 1 of Flopy (see http://modflowpy.github.io/flopydoc/tutorial1.html). I'm using the python script supplied as part of the GitHub release of FloPy i.e. examples/Tutorials/Tutorial01"
   ]
  },
  {
   "cell_type": "code",
   "execution_count": 32,
   "metadata": {
    "collapsed": true
   },
   "outputs": [],
   "source": [
    "%matplotlib inline  \n",
    "import numpy as np                                                                  \n",
    "import flopy"
   ]
  },
  {
   "cell_type": "markdown",
   "metadata": {},
   "source": [
    "## Creating the Model grid\n",
    "One of the nice things about creating models in python is that it is very easy to change one or two things and completely change the grid resolution for your model. So in this example, we will design our python script so that the number of layers, columns, and rows can be easily changed.\n",
    "\n",
    "We can create a very simple MODFLOW model that has a basic package (BAS), discretization input file (DIS), layer-property flow LPF) package, output control (OC), and preconditioned conjugate gradient (PCG) solver. Each one of these has its own input file, which will be created automatically by flopy, provided that pass flopy the correct information.\n",
    "\n",
    "When you have run this script (which generates the input files) I suggest you look around the folder and have a look at the text input files that get fed into the engine. Even if you dont understand what each line does, do you get a sense of what each input file is doing?"
   ]
  },
  {
   "cell_type": "markdown",
   "metadata": {},
   "source": [
    "### Discretization\n",
    "We start by creating our flopy model object as follows:"
   ]
  },
  {
   "cell_type": "code",
   "execution_count": 33,
   "metadata": {
    "collapsed": true
   },
   "outputs": [],
   "source": [
    "# Assign name and create modflow model object                                    \n",
    "modelname = 'confined'                                                          \n",
    "mf = flopy.modflow.Modflow(modelname, exe_name='mf2005')   "
   ]
  },
  {
   "cell_type": "markdown",
   "metadata": {},
   "source": [
    "Try doing a print/type command on modelname and mf? This is a really useful way of getting an idea of whats going on at each stage. I'm not going to prompt you again!!"
   ]
  },
  {
   "cell_type": "code",
   "execution_count": null,
   "metadata": {
    "collapsed": true
   },
   "outputs": [],
   "source": []
  },
  {
   "cell_type": "markdown",
   "metadata": {},
   "source": [
    "Next, let’s proceed by defining our model domain and creating a MODFLOW grid to span the domain:"
   ]
  },
  {
   "cell_type": "code",
   "execution_count": 34,
   "metadata": {
    "collapsed": true
   },
   "outputs": [],
   "source": [
    "# Model domain and grid definition\n",
    "# What do each one of these lines do? \n",
    "Lx = 1000.                                                                       \n",
    "Ly = 1000.                                                                       \n",
    "ztop = 0.                                                                        \n",
    "zbot = -50.                                                                      \n",
    "nlay = 1                                                                         \n",
    "nrow = 10                                                                        \n",
    "ncol = 10                                                                        \n",
    "delr = Lx/ncol                                                                   \n",
    "delc = Ly/nrow                                                                   \n",
    "delv = (ztop - zbot) / nlay                                                      \n",
    "botm = np.linspace(ztop, zbot, nlay + 1)  "
   ]
  },
  {
   "cell_type": "markdown",
   "metadata": {},
   "source": [
    "With this information, we can now create the flopy discretization object by entering the following:"
   ]
  },
  {
   "cell_type": "code",
   "execution_count": 35,
   "metadata": {
    "collapsed": false
   },
   "outputs": [],
   "source": [
    "# Create the discretization object\n",
    "dis = flopy.modflow.ModflowDis(mf, nlay, nrow, ncol, delr=delr, delc=delc,\n",
    "                               top=ztop, botm=botm[1:])"
   ]
  },
  {
   "cell_type": "markdown",
   "metadata": {},
   "source": [
    "The obvious question at this point is, how do I know which arguments are required by this strange thing called flopy.modflow.ModflowDis? Fortunately, there is an online help page for each one of the model objects. The page for the DIS input file is located at http://modflowpy.github.io/flopydoc/mfdis.html. Having a second screen (or another computer) is really handy when doing this kind of stuff as it allows you to look at stack overflow or the manual page to understand whats going on and develop your models."
   ]
  },
  {
   "cell_type": "markdown",
   "metadata": {},
   "source": [
    "## Basic Package\n",
    "\n",
    "Next we can create a flopy object that represents the MODFLOW Basic Package. Details on the flopy BAS class are at: http://modflowpy.github.io/flopydoc/mfbas.html. For this simple model, we will assign constant head values of 10. and 0. to the first and last model columns (in all layers), respectively. The python code for doing this is:"
   ]
  },
  {
   "cell_type": "code",
   "execution_count": 36,
   "metadata": {
    "collapsed": false
   },
   "outputs": [],
   "source": [
    "# Variables for the BAS package\n",
    "ibound = np.ones((nlay, nrow, ncol), dtype=np.int32)\n",
    "ibound[:, :, 0] = -1\n",
    "ibound[:, :, -1] = -1\n",
    "strt = np.ones((nlay, nrow, ncol), dtype=np.float32)\n",
    "strt[:, :, 0] = 10.\n",
    "strt[:, :, -1] = 0.\n",
    "bas = flopy.modflow.ModflowBas(mf, ibound=ibound, strt=strt)"
   ]
  },
  {
   "cell_type": "markdown",
   "metadata": {},
   "source": [
    "Questions (for yourself), whats going on with np.ones((....),dtype=np.int32) etc?\n",
    "What cells does strt[:, :, 0] refer to etc?\n",
    "Use some paper to go through these lines, line by line to understand what is happening on a programing level. Also (and I know I said I wouldn't do this again), use print and type!! Looking at ibound and strt with print is an aweeessssoooommmmeee idea."
   ]
  },
  {
   "cell_type": "markdown",
   "metadata": {},
   "source": [
    "## Layer-Property Flow Package\n",
    "\n",
    "Details on the flopy LPF class are at: http://modflowpy.github.io/flopydoc/mflpf.html. Values of 10. are assigned for the horizontal and vertical hydraulic conductivity:"
   ]
  },
  {
   "cell_type": "code",
   "execution_count": 37,
   "metadata": {
    "collapsed": false
   },
   "outputs": [],
   "source": [
    "# Add LPF package to the MODFLOW model                                           \n",
    "lpf = flopy.modflow.ModflowLpf(mf, hk=10., vka=10., ipakcb=53) #what does ipakcb do?"
   ]
  },
  {
   "cell_type": "markdown",
   "metadata": {},
   "source": [
    "Because we did not specify a value for laytyp, Flopy will use the default value of 0, which means that this model will be confined."
   ]
  },
  {
   "cell_type": "markdown",
   "metadata": {},
   "source": [
    "## Output Control\n",
    "\n",
    "Details on the flopy OC class are at: http://modflowpy.github.io/flopydoc/mfoc.html. Here we can use the default OC settings by specifying the following:"
   ]
  },
  {
   "cell_type": "code",
   "execution_count": 38,
   "metadata": {
    "collapsed": true
   },
   "outputs": [],
   "source": [
    "# Add OC package to the MODFLOW model\n",
    "spd = {(0, 0): ['print head', 'print budget', 'save head', 'save budget']} #What is this?\n",
    "oc = flopy.modflow.ModflowOc(mf, stress_period_data=spd, compact=True)"
   ]
  },
  {
   "cell_type": "markdown",
   "metadata": {},
   "source": [
    "## Preconditioned Conjugate Gradient Package\n",
    "\n",
    "Details on the flopy PCG class are at: http://modflowpy.github.io/flopydoc/mfpcg.html. The default settings used by flopy will be used by specifying the following commands:\n"
   ]
  },
  {
   "cell_type": "code",
   "execution_count": 39,
   "metadata": {
    "collapsed": true
   },
   "outputs": [],
   "source": [
    "# Add PCG package to the MODFLOW model\n",
    "pcg = flopy.modflow.ModflowPcg(mf)"
   ]
  },
  {
   "cell_type": "markdown",
   "metadata": {},
   "source": [
    "## Writing the MODFLOW Data Files\n",
    "\n",
    "The MODFLOW input data files are written by simply issuing the following:"
   ]
  },
  {
   "cell_type": "code",
   "execution_count": 40,
   "metadata": {
    "collapsed": false
   },
   "outputs": [
    {
     "name": "stdout",
     "output_type": "stream",
     "text": [
      "warning: assuming SpatialReference units are meters\n"
     ]
    }
   ],
   "source": [
    "# Write the MODFLOW model input files\n",
    "mf.write_input()"
   ]
  },
  {
   "cell_type": "markdown",
   "metadata": {},
   "source": [
    "## Running the Modeling\n",
    "Flopy can also be used to run the model. The model object (mf in this example) has an attached method that will run the model. For this to work, the MODFLOW program must be located somewhere within the system path, or within the working directory. In this example, we have specified that the name of the executable program is ‘mf2005’. Issue the following to run the model:"
   ]
  },
  {
   "cell_type": "code",
   "execution_count": 41,
   "metadata": {
    "collapsed": false
   },
   "outputs": [
    {
     "name": "stdout",
     "output_type": "stream",
     "text": [
      "FloPy is using the following executable to run the model: /Applications/mf2005/mf2005\n",
      "\n",
      "                                  MODFLOW-2005     \n",
      "    U.S. GEOLOGICAL SURVEY MODULAR FINITE-DIFFERENCE GROUND-WATER FLOW MODEL\n",
      "                             Version 1.12.00 2/3/2017                        \n",
      "\n",
      " Using NAME file: confined.nam \n",
      " Run start date and time (yyyy/mm/dd hh:mm:ss): 2017/10/25 14:03:59\n",
      "\n",
      " Solving:  Stress period:     1    Time step:     1    Ground-Water Flow Eqn.\n",
      " Run end date and time (yyyy/mm/dd hh:mm:ss): 2017/10/25 14:03:59\n",
      " Elapsed run time:  0.004 Seconds\n",
      "\n",
      "  Normal termination of simulation\n"
     ]
    }
   ],
   "source": [
    "# Run the MODFLOW model\n",
    "success, buff = mf.run_model()"
   ]
  },
  {
   "cell_type": "markdown",
   "metadata": {},
   "source": [
    "Here we have used run_model, and we could also have specified values for the optional keywords silent, pause, and report."
   ]
  },
  {
   "cell_type": "markdown",
   "metadata": {},
   "source": [
    "## Post-Processing the Results\n",
    "Now that we have successfully built and run our MODFLOW model, we can look at the results. MODFLOW writes the simulated heads to a binary data output file. We cannot look at these heads with a text editor, but flopy has a binary utility that can be used to read the heads. The following statements will read the binary head file and create a plot of simulated heads for layer 1:"
   ]
  },
  {
   "cell_type": "code",
   "execution_count": 42,
   "metadata": {
    "collapsed": false
   },
   "outputs": [
    {
     "name": "stderr",
     "output_type": "stream",
     "text": [
      "/Users/hamishrobertson/anaconda3/lib/python3.5/site-packages/flopy/utils/binaryfile.py:756: FutureWarning: Assignment between structured arrays with different field names will change in numpy 1.14.\n",
      "\n",
      "Previously fields in the dst would be set to the value of the identically-named field in the src. In numpy 1.14 fields will instead be assigned 'by position': The Nth field of the dst will be set to the Nth field of the src array.\n",
      "\n",
      "See the release notes for details\n",
      "  header2 = header2.astype(self.header2_dtype)\n"
     ]
    },
    {
     "data": {
      "image/png": "[encoded data removed]",
      "text/plain": [
       "<matplotlib.figure.Figure at 0x106a38390>"
      ]
     },
     "metadata": {},
     "output_type": "display_data"
    }
   ],
   "source": [
    "# Post process the results                                                       \n",
    "import matplotlib.pyplot as plt                                                  \n",
    "import flopy.utils.binaryfile as bf                                              \n",
    "fig = plt.figure(figsize=(10,10))                                                \n",
    "ax = fig.add_subplot(1, 1, 1, aspect='equal')                                    \n",
    "                                                                                  \n",
    "hds = bf.HeadFile(modelname+'.hds')                                              \n",
    "times = hds.get_times()                                                          \n",
    "head = hds.get_data(totim=times[-1])                                             \n",
    "levels = np.linspace(0, 10, 11)                                                  \n",
    "                                                                                  \n",
    "cbb = bf.CellBudgetFile(modelname+'.cbc')                                        \n",
    "kstpkper_list = cbb.get_kstpkper()                                               \n",
    "frf = cbb.get_data(text='FLOW RIGHT FACE', totim=times[-1])[0]                   \n",
    "fff = cbb.get_data(text='FLOW FRONT FACE', totim=times[-1])[0]                   \n",
    "                                                                                  \n",
    "modelmap = flopy.plot.ModelMap(model=mf, layer=0)                                \n",
    "qm = modelmap.plot_ibound()                                                      \n",
    "lc = modelmap.plot_grid()                                                        \n",
    "cs = modelmap.contour_array(head, levels=levels)                                 \n",
    "quiver = modelmap.plot_discharge(frf, fff, head=head)                            \n",
    "plt.show()    "
   ]
  },
  {
   "cell_type": "code",
   "execution_count": null,
   "metadata": {
    "collapsed": true
   },
   "outputs": [],
   "source": []
  }
 ],
 "metadata": {
  "anaconda-cloud": {},
  "kernelspec": {
   "display_name": "Python [conda root]",
   "language": "python",
   "name": "conda-root-py"
  },
  "language_info": {
   "codemirror_mode": {
    "name": "ipython",
    "version": 3
   },
   "file_extension": ".py",
   "mimetype": "text/x-python",
   "name": "python",
   "nbconvert_exporter": "python",
   "pygments_lexer": "ipython3",
   "version": "3.5.2"
  }
 },
 "nbformat": 4,
 "nbformat_minor": 2
}
